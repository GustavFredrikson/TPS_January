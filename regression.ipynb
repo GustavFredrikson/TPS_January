{
 "cells": [
  {
   "cell_type": "code",
   "execution_count": 12,
   "metadata": {},
   "outputs": [],
   "source": [
    "import pandas as pd\n",
    "import numpy as np\n",
    "\n",
    "from sklearn.preprocessing import LabelEncoder\n",
    "from sklearn.model_selection import train_test_split\n"
   ]
  },
  {
   "cell_type": "code",
   "execution_count": 13,
   "metadata": {},
   "outputs": [
    {
     "data": {
      "text/html": [
       "<div>\n",
       "<style scoped>\n",
       "    .dataframe tbody tr th:only-of-type {\n",
       "        vertical-align: middle;\n",
       "    }\n",
       "\n",
       "    .dataframe tbody tr th {\n",
       "        vertical-align: top;\n",
       "    }\n",
       "\n",
       "    .dataframe thead th {\n",
       "        text-align: right;\n",
       "    }\n",
       "</style>\n",
       "<table border=\"1\" class=\"dataframe\">\n",
       "  <thead>\n",
       "    <tr style=\"text-align: right;\">\n",
       "      <th></th>\n",
       "      <th>row_id</th>\n",
       "      <th>date</th>\n",
       "      <th>country</th>\n",
       "      <th>store</th>\n",
       "      <th>product</th>\n",
       "      <th>num_sold</th>\n",
       "    </tr>\n",
       "  </thead>\n",
       "  <tbody>\n",
       "    <tr>\n",
       "      <th>0</th>\n",
       "      <td>0</td>\n",
       "      <td>2015-01-01</td>\n",
       "      <td>Finland</td>\n",
       "      <td>KaggleMart</td>\n",
       "      <td>Kaggle Mug</td>\n",
       "      <td>329</td>\n",
       "    </tr>\n",
       "    <tr>\n",
       "      <th>1</th>\n",
       "      <td>1</td>\n",
       "      <td>2015-01-01</td>\n",
       "      <td>Finland</td>\n",
       "      <td>KaggleMart</td>\n",
       "      <td>Kaggle Hat</td>\n",
       "      <td>520</td>\n",
       "    </tr>\n",
       "    <tr>\n",
       "      <th>2</th>\n",
       "      <td>2</td>\n",
       "      <td>2015-01-01</td>\n",
       "      <td>Finland</td>\n",
       "      <td>KaggleMart</td>\n",
       "      <td>Kaggle Sticker</td>\n",
       "      <td>146</td>\n",
       "    </tr>\n",
       "    <tr>\n",
       "      <th>3</th>\n",
       "      <td>3</td>\n",
       "      <td>2015-01-01</td>\n",
       "      <td>Finland</td>\n",
       "      <td>KaggleRama</td>\n",
       "      <td>Kaggle Mug</td>\n",
       "      <td>572</td>\n",
       "    </tr>\n",
       "    <tr>\n",
       "      <th>4</th>\n",
       "      <td>4</td>\n",
       "      <td>2015-01-01</td>\n",
       "      <td>Finland</td>\n",
       "      <td>KaggleRama</td>\n",
       "      <td>Kaggle Hat</td>\n",
       "      <td>911</td>\n",
       "    </tr>\n",
       "  </tbody>\n",
       "</table>\n",
       "</div>"
      ],
      "text/plain": [
       "   row_id        date  country       store         product  num_sold\n",
       "0       0  2015-01-01  Finland  KaggleMart      Kaggle Mug       329\n",
       "1       1  2015-01-01  Finland  KaggleMart      Kaggle Hat       520\n",
       "2       2  2015-01-01  Finland  KaggleMart  Kaggle Sticker       146\n",
       "3       3  2015-01-01  Finland  KaggleRama      Kaggle Mug       572\n",
       "4       4  2015-01-01  Finland  KaggleRama      Kaggle Hat       911"
      ]
     },
     "execution_count": 13,
     "metadata": {},
     "output_type": "execute_result"
    }
   ],
   "source": [
    "train_df = pd.read_csv(\"train.csv\")\n",
    "test_df = pd.read_csv(\"test.csv\")\n",
    "submission_df = pd.read_csv(\"sample_submission.csv\")\n",
    "train_df.head()"
   ]
  },
  {
   "cell_type": "markdown",
   "metadata": {},
   "source": [
    "# Clean data"
   ]
  },
  {
   "cell_type": "code",
   "execution_count": 14,
   "metadata": {},
   "outputs": [],
   "source": [
    "def clean_data(df) -> pd.DataFrame:\n",
    "    df = df.copy()\n",
    "    df.drop('row_id',axis=1, inplace=True) # Not relevant\n",
    "\n",
    "    df['date'] = pd.to_datetime(df['date'])\n",
    "\n",
    "    # Encode countries\n",
    "    le = LabelEncoder().fit(df['country'])\n",
    "    df['country'] = le.transform(df['country'])\n",
    "    \n",
    "    # Encode stores\n",
    "    le = LabelEncoder().fit(df['store'])\n",
    "    df['store'] = le.transform(df['store'])\n",
    "    \n",
    "    # Encode product\n",
    "    le = LabelEncoder().fit(df['product'])\n",
    "    df['product'] = le.transform(df['product'])\n",
    "\n",
    "    df['date'] = df['date'].values.astype(float)\n",
    "\n",
    "    return df"
   ]
  },
  {
   "cell_type": "markdown",
   "metadata": {},
   "source": [
    "# Split and train model\n",
    "Current nr 1 on Kaggle has score of 4.7, Goal: top 100 under score of 6"
   ]
  },
  {
   "cell_type": "code",
   "execution_count": 15,
   "metadata": {},
   "outputs": [],
   "source": [
    "train = clean_data(train_df)\n",
    "\n",
    "train_X_df = train.drop('num_sold', axis=1)\n",
    "train_y_df = train['num_sold']\n",
    "X_train, X_test, y_train, y_test = train_test_split(train_X_df, train_y_df, test_size=0.2)"
   ]
  },
  {
   "cell_type": "markdown",
   "metadata": {},
   "source": [
    "### Accuracy is calculated using SMAPE"
   ]
  },
  {
   "cell_type": "code",
   "execution_count": 16,
   "metadata": {},
   "outputs": [],
   "source": [
    "def accuracy(real,preds):\n",
    "    \"\"\"Function to calculate accuracy using SMAPE\"\"\"\n",
    "    return 1/len(real) * np.sum(2 * np.abs(real - preds) / (np.abs(real) + np.abs(preds)) * 100)"
   ]
  },
  {
   "cell_type": "markdown",
   "metadata": {},
   "source": [
    "### Test linear regression as baseline"
   ]
  },
  {
   "cell_type": "code",
   "execution_count": 26,
   "metadata": {},
   "outputs": [
    {
     "name": "stdout",
     "output_type": "stream",
     "text": [
      "Linear regression score on training data: 35.562521578878794\n",
      "Linear regression score on testing data: 35.817697790010115\n",
      "CPU times: user 28.1 ms, sys: 3.71 ms, total: 31.8 ms\n",
      "Wall time: 55.2 ms\n"
     ]
    }
   ],
   "source": [
    "%%time\n",
    "from sklearn.linear_model import LinearRegression\n",
    "clf = Pipeline([\n",
    "        ('scaler', RobustScaler()),\n",
    "        ('knn', LinearRegression())\n",
    "    ])\n",
    "clf.fit(X_train, y_train)\n",
    "\n",
    "print(f\"Linear regression score on training data: {accuracy(clf.predict(X_train), y_train)}\")\n",
    "print(f\"Linear regression score on testing data: {accuracy(clf.predict(X_test), y_test)}\")"
   ]
  },
  {
   "cell_type": "markdown",
   "metadata": {},
   "source": [
    "### Test of Nearest neighbors regression\n",
    "Did a lot better than Linear regression but long way to go..."
   ]
  },
  {
   "cell_type": "code",
   "execution_count": 24,
   "metadata": {},
   "outputs": [
    {
     "name": "stdout",
     "output_type": "stream",
     "text": [
      "Accuracy at best k on training data: 12.12072829176502\n",
      "Best accuracy at k = 12.355242141649832 with testing accuracy of 12.355242141649832\n",
      "CPU times: user 1min 1s, sys: 2.88 s, total: 1min 4s\n",
      "Wall time: 1min 12s\n"
     ]
    }
   ],
   "source": [
    "%%time\n",
    "from sklearn.neighbors import KNeighborsRegressor\n",
    "from sklearn.pipeline import Pipeline\n",
    "from sklearn.preprocessing import RobustScaler\n",
    "\n",
    "best_test = float('inf')\n",
    "best_train = float('inf')\n",
    "best_k = 0\n",
    "for neighbor in range(1, 101):\n",
    "    clf = Pipeline([\n",
    "        ('scaler', RobustScaler()),\n",
    "        ('knn', KNeighborsRegressor(n_neighbors=neighbor))\n",
    "    ])\n",
    "    clf.fit(X_train, y_train)\n",
    "    test_score = accuracy(clf.predict(X_test), y_test)\n",
    "    train_score = accuracy(clf.predict(X_train), y_train)\n",
    "    if test_score < best_test:\n",
    "        best_test = test_score\n",
    "        best_k = neighbor\n",
    "        best_train = train_score\n",
    "        \n",
    "print(f\"Accuracy at best k on training data: {train_score}\")\n",
    "print(f\"Best accuracy at k = {best_k} with testing accuracy of {test_score}\")"
   ]
  },
  {
   "cell_type": "markdown",
   "metadata": {},
   "source": [
    "### Test of Random Forest Regressor\n",
    "Got a testing accuracy of 8.9 without any hyperparameter tuning, getting alot closer"
   ]
  },
  {
   "cell_type": "code",
   "execution_count": 19,
   "metadata": {},
   "outputs": [
    {
     "name": "stdout",
     "output_type": "stream",
     "text": [
      "Accuracy at best estimator on training data: 3.3337512396356415\n",
      "Best accuracy at estimator = 160 with testing accuracy of 9.03137694766215\n",
      "CPU times: user 1min 8s, sys: 3.2 s, total: 1min 11s\n",
      "Wall time: 26.5 s\n"
     ]
    }
   ],
   "source": [
    "%%time\n",
    "from sklearn.ensemble import RandomForestRegressor\n",
    "\n",
    "test_estimators = False\n",
    "best_acc = float('inf')\n",
    "best_estimator = 0\n",
    "train_acc_at_best_k = float('inf')\n",
    "for estimator in range(10, 200, 10):\n",
    "    model = RandomForestRegressor(n_estimators=estimator, n_jobs=-1)\n",
    "    model.fit(X_train, y_train)\n",
    "    curr_accuracy = accuracy(model.predict(X_test), y_test)\n",
    "    if curr_accuracy < best_acc:\n",
    "        best_acc = curr_accuracy\n",
    "        best_estimator = estimator\n",
    "        train_acc_at_best_k = accuracy(model.predict(X_train), y_train)\n",
    "\n",
    "print(f\"Accuracy at best estimator on training data: {train_acc_at_best_k}\")\n",
    "print(f\"Best accuracy at estimator = {best_estimator} with testing accuracy of {best_acc}\")"
   ]
  },
  {
   "cell_type": "markdown",
   "metadata": {},
   "source": [
    "### Test of sklearns GradientBoostingRegressor\n",
    "Best testing score yet of 7.05, more hyperparameter tuning available to perfect"
   ]
  },
  {
   "cell_type": "code",
   "execution_count": 25,
   "metadata": {},
   "outputs": [
    {
     "name": "stdout",
     "output_type": "stream",
     "text": [
      "Gradient boost regression score on training data: 5.5370020200551755\n",
      "Gradient boost regression score on testing data: 7.032682567187726\n",
      "CPU times: user 1min 17s, sys: 1.28 s, total: 1min 18s\n",
      "Wall time: 1min 27s\n"
     ]
    }
   ],
   "source": [
    "%%time\n",
    "from sklearn.ensemble import GradientBoostingRegressor\n",
    "\n",
    "model = GradientBoostingRegressor(n_estimators=10000)\n",
    "model.fit(X_train, y_train)\n",
    "\n",
    "print(f\"Gradient boost regression score on training data: {accuracy(model.predict(X_train), y_train)}\")\n",
    "print(f\"Gradient boost regression score on testing data: {accuracy(model.predict(X_test), y_test)}\")"
   ]
  },
  {
   "cell_type": "code",
   "execution_count": null,
   "metadata": {},
   "outputs": [],
   "source": []
  }
 ],
 "metadata": {
  "interpreter": {
   "hash": "067285970e749128406118d28689d915c6c8834da6929e6b727880331d0940b5"
  },
  "kernelspec": {
   "display_name": "Python 3.8.12 64-bit ('lightML': conda)",
   "language": "python",
   "name": "python3"
  },
  "language_info": {
   "codemirror_mode": {
    "name": "ipython",
    "version": 3
   },
   "file_extension": ".py",
   "mimetype": "text/x-python",
   "name": "python",
   "nbconvert_exporter": "python",
   "pygments_lexer": "ipython3",
   "version": "3.8.12"
  },
  "orig_nbformat": 4
 },
 "nbformat": 4,
 "nbformat_minor": 2
}
